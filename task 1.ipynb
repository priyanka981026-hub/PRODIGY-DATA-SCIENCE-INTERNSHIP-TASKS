{
 "cells": [
  {
   "cell_type": "code",
   "execution_count": 1,
   "id": "ff4d74a4-e95b-451b-b0a5-1e064064dc08",
   "metadata": {},
   "outputs": [
    {
     "name": "stdout",
     "output_type": "stream",
     "text": [
      "Requirement already satisfied: matplotlib in c:\\users\\acer aspire 3\\anaconda3\\lib\\site-packages (3.10.5)\n",
      "Requirement already satisfied: contourpy>=1.0.1 in c:\\users\\acer aspire 3\\anaconda3\\lib\\site-packages (from matplotlib) (1.3.3)\n",
      "Requirement already satisfied: cycler>=0.10 in c:\\users\\acer aspire 3\\anaconda3\\lib\\site-packages (from matplotlib) (0.12.1)\n",
      "Requirement already satisfied: fonttools>=4.22.0 in c:\\users\\acer aspire 3\\anaconda3\\lib\\site-packages (from matplotlib) (4.59.1)\n",
      "Requirement already satisfied: kiwisolver>=1.3.1 in c:\\users\\acer aspire 3\\anaconda3\\lib\\site-packages (from matplotlib) (1.4.9)\n",
      "Requirement already satisfied: numpy>=1.23 in c:\\users\\acer aspire 3\\anaconda3\\lib\\site-packages (from matplotlib) (2.3.2)\n",
      "Requirement already satisfied: packaging>=20.0 in c:\\users\\acer aspire 3\\anaconda3\\lib\\site-packages (from matplotlib) (24.1)\n",
      "Requirement already satisfied: pillow>=8 in c:\\users\\acer aspire 3\\anaconda3\\lib\\site-packages (from matplotlib) (10.4.0)\n",
      "Requirement already satisfied: pyparsing>=2.3.1 in c:\\users\\acer aspire 3\\anaconda3\\lib\\site-packages (from matplotlib) (3.2.3)\n",
      "Requirement already satisfied: python-dateutil>=2.7 in c:\\users\\acer aspire 3\\anaconda3\\lib\\site-packages (from matplotlib) (2.9.0.post0)\n",
      "Requirement already satisfied: six>=1.5 in c:\\users\\acer aspire 3\\anaconda3\\lib\\site-packages (from python-dateutil>=2.7->matplotlib) (1.16.0)\n"
     ]
    }
   ],
   "source": [
    "!pip install matplotlib"
   ]
  },
  {
   "cell_type": "code",
   "execution_count": 2,
   "id": "c713f2ff-38a7-465c-86aa-1b7cf307a4fb",
   "metadata": {},
   "outputs": [
    {
     "name": "stdout",
     "output_type": "stream",
     "text": [
      "3.10.5\n"
     ]
    }
   ],
   "source": [
    "import matplotlib\n",
    "print(matplotlib.__version__)"
   ]
  },
  {
   "cell_type": "code",
   "execution_count": 15,
   "id": "c9e28957-525a-4673-a4a2-8ddc2b6f3fc0",
   "metadata": {},
   "outputs": [
    {
     "data": {
      "image/png": "[encoded data removed]",
      "text/plain": [
       "<Figure size 640x480 with 1 Axes>"
      ]
     },
     "metadata": {},
     "output_type": "display_data"
    }
   ],
   "source": [
    "import pandas as pad \n",
    "import matplotlib.pyplot as plt\n",
    "#Load Task-01 dataset\n",
    "url = \"https://raw.githubusercontent.com/kindo-tk/PRODIGY_DS_01/main/worldpopulationdata.csv\"\n",
    "df = pd.read_csv(url)\n",
    "#  1. Bar Chart: Male vs Female (Total)\n",
    "male_cols = [col for col in df.columns if 'Male' in col]\n",
    "female_cols = [col for col in df.columns if 'Female' in col]\n",
    "male_total = df[male_cols].sum(numeric_only=True).sum() if male_cols else None\n",
    "female_total = df[female_cols].sum(numeric_only=True).sum() if female_cols else None\n",
    "if male_total is not None and female_total is not None:\n",
    "    pd.Series({'Male':male_total, 'Female': female_total}).plot(\n",
    "        kind='bar', color=['skyblue', 'pink'], edgecolor='black'\n",
    "    )\n",
    "    plt.title(\"Total Male vs Female population\")\n",
    "    plt.ylabel(\"Population\")\n",
    "    plt.show()\n",
    "# 2. Histogram: Population (first numeric column, if exists)\n",
    "numeric_cols = df.select_dtypes(include='number').columns\n",
    "if numeric_cols.any():\n",
    "    df[numeric_cols[0]].plot(kind='hist', bins=15, color='orange', edgecolor='black')\n",
    "    plt.title(f\"Distribution of {numeric_cols[0]}\")\n",
    "    plt.xlabel(numeric_cols[0])\n",
    "    plt.show()\n",
    "    \n",
    " \n",
    "    "
   ]
  },
  {
   "cell_type": "code",
   "execution_count": null,
   "id": "20759d6d-3f77-40c4-945a-f98537ebc8cd",
   "metadata": {},
   "outputs": [],
   "source": [
    "# Matplotlib-is a Python library used to make  graphs and charts.\n",
    "# it helps you visualize data instead of just looking at numbers.\n"
   ]
  },
  {
   "cell_type": "code",
   "execution_count": null,
   "id": "c4da532b-8c16-4ef4-b1fa-f6565ebdfaa2",
   "metadata": {},
   "outputs": [],
   "source": [
    "# 1. Bar Chart – Male vs Female (Total Population)\n",
    "\n",
    "# Definition:\n",
    "# A bar chart is used to represent categorical data with rectangular bars. The length of the bar is proportional to the value it represents. Here, the categories are Male and Female, and the values are their total populations.\n",
    "\n",
    "# Steps in Code:\n",
    "\n",
    "# First, the code identifies all columns in the dataset containing \"Male\" and \"Female\".\n",
    "\n",
    "# Then, it calculates the total male and total female population by summing those columns.\n",
    "\n",
    "# Finally, a bar chart is plotted comparing Male vs Female populations.\n",
    "\n",
    "#  Output Meaning:\n",
    "# It shows the overall gender distribution in the world population dataset.\n",
    "\n",
    "# 2. Histogram – Distribution of Population (First Numeric Column)\n",
    "\n",
    "# Definition:\n",
    "# A histogram is a graphical representation of the distribution of numerical data. It divides the data into bins (intervals) and shows how many values fall into each bin.\n",
    "\n",
    "# Steps in Code:\n",
    "\n",
    "# It selects the first numeric column in the dataset.\n",
    "\n",
    "# Then, it plots a histogram using 15 bins (intervals).\n",
    "\n",
    "# This shows how the values of that numeric column are spread across different ranges.\n",
    "\n",
    "#  Output Meaning:\n",
    "# It helps understand the frequency distribution of population data (or whichever numeric column is first in the dataset).\n",
    "\n",
    "# Summary of Your Task\n",
    "\n",
    "# Bar Chart: Shows the total Male vs Female population.\n",
    "\n",
    "# Histogram: Shows the distribution pattern of the population data.\n",
    "\n",
    "#  This task demonstrates basic EDA (Exploratory Data Analysis) using Matplotlib visualizations on population data."
   ]
  },
  {
   "cell_type": "code",
   "execution_count": 18,
   "id": "d41e465e-647b-4244-8d07-44a16a666be3",
   "metadata": {},
   "outputs": [
    {
     "name": "stdout",
     "output_type": "stream",
     "text": [
      "Folder: C:\\Users\\Acer Aspire 3\\prodigy internship\\Task 1.ipynb\n",
      "Files: ['.ipynb_checkpoints', 'task 1.ipynb', 'task 2.ipynb', 'Untitled.ipynb']\n"
     ]
    }
   ],
   "source": [
    "import pathlib, os\n",
    "print(\"Folder:\",pathlib.Path().resolve())\n",
    "print(\"Files:\", os.listdir())"
   ]
  },
  {
   "cell_type": "code",
   "execution_count": null,
   "id": "7f12b03f-5fe0-41ea-abad-897ac15cadb7",
   "metadata": {},
   "outputs": [],
   "source": []
  },
  {
   "cell_type": "code",
   "execution_count": null,
   "id": "2240bfb8-e4c2-4d03-9660-4cda06dd2191",
   "metadata": {},
   "outputs": [],
   "source": []
  },
  {
   "cell_type": "code",
   "execution_count": null,
   "id": "c6e3bed4-ada5-421f-b9b6-9576ea4112e2",
   "metadata": {},
   "outputs": [],
   "source": []
  },
  {
   "cell_type": "code",
   "execution_count": null,
   "id": "60bd1937-d0ae-4423-aa9c-3c616d47b7f5",
   "metadata": {},
   "outputs": [],
   "source": []
  },
  {
   "cell_type": "code",
   "execution_count": null,
   "id": "374cb86a-4c47-4548-be2c-b888bd81ea41",
   "metadata": {},
   "outputs": [],
   "source": []
  },
  {
   "cell_type": "code",
   "execution_count": null,
   "id": "955fb3ef-ec5f-47e5-866e-f03b6452c328",
   "metadata": {},
   "outputs": [],
   "source": []
  },
  {
   "cell_type": "code",
   "execution_count": null,
   "id": "610e97cc-5e55-436f-a0b1-d0b0092a21d7",
   "metadata": {},
   "outputs": [],
   "source": []
  }
 ],
 "metadata": {
  "kernelspec": {
   "display_name": "Python 3 (ipykernel)",
   "language": "python",
   "name": "python3"
  },
  "language_info": {
   "codemirror_mode": {
    "name": "ipython",
    "version": 3
   },
   "file_extension": ".py",
   "mimetype": "text/x-python",
   "name": "python",
   "nbconvert_exporter": "python",
   "pygments_lexer": "ipython3",
   "version": "3.12.7"
  }
 },
 "nbformat": 4,
 "nbformat_minor": 5
}
